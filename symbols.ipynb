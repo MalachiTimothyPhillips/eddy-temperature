{
 "cells": [
  {
   "cell_type": "code",
   "execution_count": 7,
   "metadata": {},
   "outputs": [],
   "source": [
    "from sympy import *"
   ]
  },
  {
   "cell_type": "code",
   "execution_count": 8,
   "metadata": {},
   "outputs": [],
   "source": [
    "x, y = symbols('x y')"
   ]
  },
  {
   "cell_type": "code",
   "execution_count": 9,
   "metadata": {},
   "outputs": [],
   "source": [
    "Pexpr = (16 * cos(6 * x) + 8 * cos(8 * x - 4 * y) - 32 * cos(2 * (x - 2 * y)) + 9 * cos(8 * y) -\n",
    "        8 * cos(4 * (2 * x + y)) + 32 * cos(2 * (x + 2 * y)) - 4 * sin(3 * (x - 3 * y)) +\n",
    "        32 * sin(5 * (x - y)) + 36 * sin(3 * x - y) - 32 * sin(5 * (x + y)) + 36 * sin(3 * x + y) -\n",
    "        4 * sin(3 * (x + 3 * y)))"
   ]
  },
  {
   "cell_type": "code",
   "execution_count": 14,
   "metadata": {},
   "outputs": [
    {
     "data": {
      "text/latex": [
       "$\\displaystyle - 4 \\sin{\\left(3 x - 9 y \\right)} + 36 \\sin{\\left(3 x - y \\right)} + 36 \\sin{\\left(3 x + y \\right)} - 4 \\sin{\\left(3 x + 9 y \\right)} + 32 \\sin{\\left(5 x - 5 y \\right)} - 32 \\sin{\\left(5 x + 5 y \\right)} + 16 \\cos{\\left(6 x \\right)} + 9 \\cos{\\left(8 y \\right)} - 32 \\cos{\\left(2 x - 4 y \\right)} + 32 \\cos{\\left(2 x + 4 y \\right)} + 8 \\cos{\\left(8 x - 4 y \\right)} - 8 \\cos{\\left(8 x + 4 y \\right)}$"
      ],
      "text/plain": [
       "-4*sin(3*x - 9*y) + 36*sin(3*x - y) + 36*sin(3*x + y) - 4*sin(3*x + 9*y) + 32*sin(5*x - 5*y) - 32*sin(5*x + 5*y) + 16*cos(6*x) + 9*cos(8*y) - 32*cos(2*x - 4*y) + 32*cos(2*x + 4*y) + 8*cos(8*x - 4*y) - 8*cos(8*x + 4*y)"
      ]
     },
     "execution_count": 14,
     "metadata": {},
     "output_type": "execute_result"
    }
   ],
   "source": [
    "Pexpr.simplify()"
   ]
  },
  {
   "cell_type": "code",
   "execution_count": 16,
   "metadata": {},
   "outputs": [
    {
     "data": {
      "text/latex": [
       "$\\displaystyle - 96 \\sin{\\left(6 x \\right)} + 64 \\sin{\\left(2 x - 4 y \\right)} - 64 \\sin{\\left(2 x + 4 y \\right)} - 64 \\sin{\\left(8 x - 4 y \\right)} + 64 \\sin{\\left(8 x + 4 y \\right)} - 12 \\cos{\\left(3 x - 9 y \\right)} + 108 \\cos{\\left(3 x - y \\right)} + 108 \\cos{\\left(3 x + y \\right)} - 12 \\cos{\\left(3 x + 9 y \\right)} + 160 \\cos{\\left(5 x - 5 y \\right)} - 160 \\cos{\\left(5 x + 5 y \\right)}$"
      ],
      "text/plain": [
       "-96*sin(6*x) + 64*sin(2*x - 4*y) - 64*sin(2*x + 4*y) - 64*sin(8*x - 4*y) + 64*sin(8*x + 4*y) - 12*cos(3*x - 9*y) + 108*cos(3*x - y) + 108*cos(3*x + y) - 12*cos(3*x + 9*y) + 160*cos(5*x - 5*y) - 160*cos(5*x + 5*y)"
      ]
     },
     "execution_count": 16,
     "metadata": {},
     "output_type": "execute_result"
    }
   ],
   "source": [
    "# compute dp/dx term\n",
    "dpdx = Pexpr.diff(x).simplify()\n",
    "dpdx"
   ]
  },
  {
   "cell_type": "code",
   "execution_count": 19,
   "metadata": {},
   "outputs": [
    {
     "data": {
      "text/plain": [
       "'-96*sin(6*x) + 64*sin(2*x - 4*y) - 64*sin(2*x + 4*y) - 64*sin(8*x - 4*y) + 64*sin(8*x + 4*y) - 12*cos(3*x - 9*y) + 108*cos(3*x - y) + 108*cos(3*x + y) - 12*cos(3*x + 9*y) + 160*cos(5*x - 5*y) - 160*cos(5*x + 5*y)'"
      ]
     },
     "execution_count": 19,
     "metadata": {},
     "output_type": "execute_result"
    }
   ],
   "source": [
    "expressionStr = printing.lambdarepr.lambdarepr(dpdx)\n",
    "\n",
    "# remove all instances of math. from expressionStr\n",
    "expressionStr = expressionStr.replace('math.', '')\n",
    "expressionStr"
   ]
  },
  {
   "cell_type": "code",
   "execution_count": null,
   "metadata": {},
   "outputs": [],
   "source": []
  }
 ],
 "metadata": {
  "kernelspec": {
   "display_name": "Python 3",
   "language": "python",
   "name": "python3"
  },
  "language_info": {
   "codemirror_mode": {
    "name": "ipython",
    "version": 3
   },
   "file_extension": ".py",
   "mimetype": "text/x-python",
   "name": "python",
   "nbconvert_exporter": "python",
   "pygments_lexer": "ipython3",
   "version": "3.10.12"
  },
  "orig_nbformat": 4
 },
 "nbformat": 4,
 "nbformat_minor": 2
}
